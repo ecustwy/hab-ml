{
 "cells": [
  {
   "cell_type": "code",
   "execution_count": 1,
   "metadata": {},
   "outputs": [],
   "source": [
    "import os\n",
    "import numpy as np\n",
    "import pandas as pd\n",
    "from sklearn.model_selection import StratifiedShuffleSplit"
   ]
  },
  {
   "cell_type": "code",
   "execution_count": 2,
   "metadata": {},
   "outputs": [],
   "source": [
    "data_dir = \"/data6/lekevin/hab-master/phytoplankton-db/csv/hab_in_situ_raw_v2_workshop2019.csv\"\n",
    "dest_dir = \"/data6/SuryaKrishnan/raw_data_9_class\""
   ]
  },
  {
   "cell_type": "code",
   "execution_count": 3,
   "metadata": {},
   "outputs": [],
   "source": [
    "def hab_map(value):\n",
    "    \n",
    "    hab_classes = [\"Akashiwo\", \"Ceratium falcatiforme or fusus\", \"Ceratium furca\", \n",
    "                  \"Chattonella\", \"Cochlodinium\", \"Gyrodinium\",  \"Lingulodinium polyedra\",\n",
    "                  \"Prorocentrum micans\", \"Pseudo nitzschia chain\"]\n",
    "    if value in hab_classes:\n",
    "        return value\n",
    "    elif value in [\"Ceratium falcatiforme fusus pair\", \"Ceratium falcatiforme fusus single\"]:\n",
    "        return \"Ceratium falcatiforme or fusus\"\n",
    "    elif value in [\"Ceratium furca pair\", \"Ceratium furca side\", \"Ceratium furca single\"]:\n",
    "        return \"Ceratium furca\"\n",
    "    elif value in [\"Cochlodinium Alexandrium Gonyaulax Gymnodinium chain\", \"Cochlodinium Alexandrium Gonyaulax Gymnodinium pair\"]:\n",
    "        return \"Cochlodinium\"\n",
    "    elif value in [\"Lingulodinium\"]:\n",
    "        return \"Lingulodinium polyedra\"\n",
    "    elif value in [\"Prorocentrum\"]:\n",
    "        return \"Prorocentrum micans\"\n",
    "    else:\n",
    "        return \"Other\""
   ]
  },
  {
   "cell_type": "code",
   "execution_count": 4,
   "metadata": {},
   "outputs": [
    {
     "name": "stdout",
     "output_type": "stream",
     "text": [
      "Prorocentrum micans               3147\n",
      "Ceratium furca                    2519\n",
      "Ceratium falcatiforme or fusus    1586\n",
      "Cochlodinium                      1493\n",
      "Lingulodinium polyedra            1433\n",
      "Akashiwo                           777\n",
      "Gyrodinium                         671\n",
      "Pseudo nitzschia chain             618\n",
      "Chattonella                        558\n",
      "Name: transformed_y, dtype: int64\n"
     ]
    }
   ],
   "source": [
    "data = pd.read_csv(data_dir)\n",
    "\n",
    "data[\"transformed_y\"] = data[\"label\"].apply(hab_map)\n",
    "\n",
    "data = data.loc[data[\"transformed_y\"] != \"Other\"]\n",
    "\n",
    "print(data[\"transformed_y\"].value_counts())\n",
    "\n",
    "data_x = data[\"images\"]\n",
    "data_y = data[\"transformed_y\"]"
   ]
  },
  {
   "cell_type": "code",
   "execution_count": 5,
   "metadata": {},
   "outputs": [],
   "source": [
    "sss = StratifiedShuffleSplit(n_splits=1, test_size=0.2, random_state=0)"
   ]
  },
  {
   "cell_type": "code",
   "execution_count": 6,
   "metadata": {},
   "outputs": [],
   "source": [
    "for train_index, val_index in sss.split(data_x, data_y):\n",
    "    train_x = data_x.iloc[train_index]\n",
    "    val_x = data_x.iloc[val_index]\n",
    "    \n",
    "    train_y = data_y.iloc[train_index]\n",
    "    val_y = data_y.iloc[val_index]\n",
    "    \n",
    "    train_dict = {\"images\" : train_x, \"label\" : train_y}\n",
    "    val_dict = {\"images\" : val_x, \"label\" : val_y}\n",
    "\n",
    "    train_df = pd.DataFrame(train_dict)\n",
    "    val_df = pd.DataFrame(val_dict)\n",
    "    \n",
    "    train_df.to_csv(os.path.join(dest_dir, \"train.csv\"), index=False)\n",
    "    val_df.to_csv(os.path.join(dest_dir, \"val.csv\"), index=False)"
   ]
  },
  {
   "cell_type": "code",
   "execution_count": 7,
   "metadata": {},
   "outputs": [
    {
     "data": {
      "text/plain": [
       "Prorocentrum micans               2518\n",
       "Ceratium furca                    2015\n",
       "Ceratium falcatiforme or fusus    1269\n",
       "Cochlodinium                      1194\n",
       "Lingulodinium polyedra            1146\n",
       "Akashiwo                           622\n",
       "Gyrodinium                         537\n",
       "Pseudo nitzschia chain             494\n",
       "Chattonella                        446\n",
       "Name: label, dtype: int64"
      ]
     },
     "execution_count": 7,
     "metadata": {},
     "output_type": "execute_result"
    }
   ],
   "source": [
    "train_df =  pd.read_csv(os.path.join(dest_dir, \"train.csv\"))\n",
    "\n",
    "train_df[\"label\"].value_counts()"
   ]
  },
  {
   "cell_type": "code",
   "execution_count": 8,
   "metadata": {},
   "outputs": [
    {
     "data": {
      "text/plain": [
       "Prorocentrum micans               629\n",
       "Ceratium furca                    504\n",
       "Ceratium falcatiforme or fusus    317\n",
       "Cochlodinium                      299\n",
       "Lingulodinium polyedra            287\n",
       "Akashiwo                          155\n",
       "Gyrodinium                        134\n",
       "Pseudo nitzschia chain            124\n",
       "Chattonella                       112\n",
       "Name: label, dtype: int64"
      ]
     },
     "execution_count": 8,
     "metadata": {},
     "output_type": "execute_result"
    }
   ],
   "source": [
    "val_df =  pd.read_csv(os.path.join(dest_dir, \"val.csv\"))\n",
    "\n",
    "val_df[\"label\"].value_counts()"
   ]
  },
  {
   "cell_type": "code",
   "execution_count": null,
   "metadata": {},
   "outputs": [],
   "source": []
  }
 ],
 "metadata": {
  "kernelspec": {
   "display_name": "Python 3",
   "language": "python",
   "name": "python3"
  },
  "language_info": {
   "codemirror_mode": {
    "name": "ipython",
    "version": 3
   },
   "file_extension": ".py",
   "mimetype": "text/x-python",
   "name": "python",
   "nbconvert_exporter": "python",
   "pygments_lexer": "ipython3",
   "version": "3.7.6"
  }
 },
 "nbformat": 4,
 "nbformat_minor": 4
}
