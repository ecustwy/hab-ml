{
 "cells": [
  {
   "cell_type": "code",
   "execution_count": 1,
   "metadata": {},
   "outputs": [],
   "source": [
    "import os\n",
    "import numpy as np\n",
    "import pandas as pd\n",
    "from sklearn.model_selection import StratifiedShuffleSplit"
   ]
  },
  {
   "cell_type": "code",
   "execution_count": 2,
   "metadata": {},
   "outputs": [],
   "source": [
    "data_dir = '/data6/phytoplankton-db/csv/hab_in_situ_raw_v2_workshop2019.csv'\n",
    "dest_dir = \"/data6/SuryaKrishnan/raw_data\""
   ]
  },
  {
   "cell_type": "code",
   "execution_count": 3,
   "metadata": {},
   "outputs": [],
   "source": [
    "data = pd.read_csv(data_dir)\n",
    "col_names = data.columns\n",
    "\n",
    "data_x = data[col_names[0]]\n",
    "data_y = data[col_names[1]]"
   ]
  },
  {
   "cell_type": "code",
   "execution_count": 4,
   "metadata": {},
   "outputs": [],
   "source": [
    "sss = StratifiedShuffleSplit(n_splits=1, test_size=0.2, random_state=0)"
   ]
  },
  {
   "cell_type": "code",
   "execution_count": 5,
   "metadata": {},
   "outputs": [],
   "source": [
    "for train_index, val_index in sss.split(data_x, data_y):\n",
    "    train_x = data_x[train_index]\n",
    "    val_x = data_x[val_index]\n",
    "    \n",
    "    train_y = data_y[train_index]\n",
    "    val_y = data_y[val_index]\n",
    "    \n",
    "    train_dict = {col_names[0] : train_x, col_names[1] : train_y}\n",
    "    val_dict = {col_names[0] : val_x, col_names[1] : val_y}\n",
    "\n",
    "    train_df = pd.DataFrame(train_dict)\n",
    "    val_df = pd.DataFrame(val_dict)\n",
    "    \n",
    "    train_df.to_csv(os.path.join(\"/data6/SuryaKrishnan/raw_data\", \"train.csv\"), index=False)\n",
    "    val_df.to_csv(os.path.join(\"/data6/SuryaKrishnan/raw_data\", \"val.csv\"), index=False)"
   ]
  },
  {
   "cell_type": "code",
   "execution_count": 6,
   "metadata": {},
   "outputs": [
    {
     "data": {
      "text/plain": [
       "51"
      ]
     },
     "execution_count": 6,
     "metadata": {},
     "output_type": "execute_result"
    }
   ],
   "source": [
    "len(data_y.unique())"
   ]
  },
  {
   "cell_type": "code",
   "execution_count": 7,
   "metadata": {},
   "outputs": [
    {
     "data": {
      "text/plain": [
       "'/data6/phytoplankton-db/hab_in_situ/images/workshop2019_v2_part1/Sand/SPCP2-1428499673-076360-001-176-664-256-456.jpg'"
      ]
     },
     "execution_count": 7,
     "metadata": {},
     "output_type": "execute_result"
    }
   ],
   "source": [
    "train_df.iloc[0,0]"
   ]
  },
  {
   "cell_type": "code",
   "execution_count": 25,
   "metadata": {},
   "outputs": [
    {
     "data": {
      "text/plain": [
       "['Acantharea',\n",
       " 'Aggregate',\n",
       " 'Akashiwo',\n",
       " 'BadImageSegmentation',\n",
       " 'Bubble',\n",
       " 'Ceratium falcatiforme fusus pair',\n",
       " 'Ceratium falcatiforme fusus single',\n",
       " 'Ceratium furca pair',\n",
       " 'Ceratium furca side',\n",
       " 'Ceratium furca single',\n",
       " 'Ceratium other pair',\n",
       " 'Ceratium other single',\n",
       " 'Chaetoceros socialis',\n",
       " 'Chattonella',\n",
       " 'Ciliates',\n",
       " 'Cochlodinium Alexandrium Gonyaulax Gymnodinium chain',\n",
       " 'Cochlodinium Alexandrium Gonyaulax Gymnodinium pair',\n",
       " 'Curved diatom chain chaetoceros',\n",
       " 'Curved diatom chain guinardia',\n",
       " 'Dinophysis pair',\n",
       " 'Dinophysis single',\n",
       " 'Eucampia chain',\n",
       " 'Eucampia pair',\n",
       " 'Gymnodinium',\n",
       " 'Gyrodinium',\n",
       " 'Kelp Fragment',\n",
       " 'Licmophora',\n",
       " 'Lingulodinium',\n",
       " 'Marine Lashes',\n",
       " 'Nauplii',\n",
       " 'Phaeocystis',\n",
       " 'Polykrikos',\n",
       " 'Prorocentrum',\n",
       " 'Prorocentrum gracile',\n",
       " 'Protoperidinium',\n",
       " 'Protoperidinium feeding',\n",
       " 'Protoperidinium flipped',\n",
       " 'Pseudo nitzschia chain',\n",
       " 'Rhizosolenia or Proboscia',\n",
       " 'Sand',\n",
       " 'Straight diatom chains chaetoceros',\n",
       " 'Straight diatom chains hemiaulus',\n",
       " 'Straight diatom chains leptocylindrus epiphytes',\n",
       " 'Straight diatom chains with epiphytes',\n",
       " 'Thalassionema or Thalassiothrix chain',\n",
       " 'Thalassiosira chain',\n",
       " 'Torodinium',\n",
       " 'Unknown centric diatom',\n",
       " 'Unknown dinoflagellates elongated',\n",
       " 'Unknown dinoflagellates spherical',\n",
       " 'Unknown pennate diatom']"
      ]
     },
     "execution_count": 25,
     "metadata": {},
     "output_type": "execute_result"
    }
   ],
   "source": [
    "sorted(train_df.iloc[:, 1].unique())"
   ]
  },
  {
   "cell_type": "code",
   "execution_count": 35,
   "metadata": {},
   "outputs": [
    {
     "data": {
      "text/plain": [
       "Acantharea                                                47.853462\n",
       "Aggregate                                                126.455319\n",
       "Akashiwo                                                  47.853462\n",
       "BadImageSegmentation                                      37.332915\n",
       "Bubble                                                   103.543554\n",
       "Ceratium falcatiforme fusus pair                         742.925000\n",
       "Ceratium falcatiforme fusus single                        24.179821\n",
       "Ceratium furca pair                                      188.082278\n",
       "Ceratium furca side                                      126.995726\n",
       "Ceratium furca single                                     18.309920\n",
       "Ceratium other pair                                     1350.772727\n",
       "Ceratium other single                                     77.187013\n",
       "Chaetoceros socialis                                      73.556931\n",
       "Chattonella                                               66.630045\n",
       "Ciliates                                                  11.905849\n",
       "Cochlodinium Alexandrium Gonyaulax Gymnodinium chain      86.638484\n",
       "Cochlodinium Alexandrium Gonyaulax Gymnodinium pair       34.920094\n",
       "Curved diatom chain chaetoceros                          113.858238\n",
       "Curved diatom chain guinardia                            216.912409\n",
       "Dinophysis pair                                          345.546512\n",
       "Dinophysis single                                         93.744479\n",
       "Eucampia chain                                           100.057239\n",
       "Eucampia pair                                            241.601626\n",
       "Gymnodinium                                              646.021739\n",
       "Gyrodinium                                                55.338920\n",
       "Kelp Fragment                                             12.335824\n",
       "Licmophora                                               691.093023\n",
       "Lingulodinium                                             25.931065\n",
       "Marine Lashes                                            109.656827\n",
       "Nauplii                                                   43.573314\n",
       "Phaeocystis                                              437.014706\n",
       "Polykrikos                                                52.971480\n",
       "Prorocentrum                                              11.806516\n",
       "Prorocentrum gracile                                      95.246795\n",
       "Protoperidinium                                           53.737794\n",
       "Protoperidinium feeding                                 1650.944444\n",
       "Protoperidinium flipped                                  825.472222\n",
       "Pseudo nitzschia chain                                    60.155870\n",
       "Rhizosolenia or Proboscia                               1188.680000\n",
       "Sand                                                       4.915964\n",
       "Straight diatom chains chaetoceros                       450.257576\n",
       "Straight diatom chains hemiaulus                         928.656250\n",
       "Straight diatom chains leptocylindrus epiphytes          319.537634\n",
       "Straight diatom chains with epiphytes                    391.013158\n",
       "Thalassionema or Thalassiothrix chain                     53.932849\n",
       "Thalassiosira chain                                      391.013158\n",
       "Torodinium                                               142.186603\n",
       "Unknown centric diatom                                   457.184615\n",
       "Unknown dinoflagellates elongated                        123.307054\n",
       "Unknown dinoflagellates spherical                        204.944828\n",
       "Unknown pennate diatom                                    76.590206\n",
       "Name: label, dtype: float64"
      ]
     },
     "execution_count": 35,
     "metadata": {},
     "output_type": "execute_result"
    }
   ],
   "source": [
    "# train_df.groupby('label').nunique()\n",
    "1 / train_df['label'].value_counts(normalize=True).sort_index()"
   ]
  },
  {
   "cell_type": "code",
   "execution_count": null,
   "metadata": {},
   "outputs": [],
   "source": []
  }
 ],
 "metadata": {
  "kernelspec": {
   "display_name": "Python 3",
   "language": "python",
   "name": "python3"
  },
  "language_info": {
   "codemirror_mode": {
    "name": "ipython",
    "version": 3
   },
   "file_extension": ".py",
   "mimetype": "text/x-python",
   "name": "python",
   "nbconvert_exporter": "python",
   "pygments_lexer": "ipython3",
   "version": "3.7.6"
  }
 },
 "nbformat": 4,
 "nbformat_minor": 4
}
